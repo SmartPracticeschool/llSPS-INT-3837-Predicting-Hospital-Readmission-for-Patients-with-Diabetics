{
 "cells": [
  {
   "cell_type": "code",
   "execution_count": 1,
   "metadata": {
    "ExecuteTime": {
     "end_time": "2018-05-15T01:10:15.845429Z",
     "start_time": "2018-05-15T01:10:15.836712Z"
    }
   },
   "outputs": [],
   "source": [
    "%matplotlib inline\n",
    "import matplotlib.cm as cm\n",
    "import random\n",
    "\n",
    "# Import tree stuff:\n",
    "from sklearn.tree import DecisionTreeClassifier\n",
    "from sklearn.tree import DecisionTreeRegressor\n",
    "from sklearn.ensemble import RandomForestClassifier\n",
    "from sklearn.ensemble import RandomForestRegressor\n",
    "from sklearn.ensemble import ExtraTreesClassifier\n",
    "from sklearn.ensemble import AdaBoostClassifier\n",
    "\n",
    "import pandas as pd\n",
    "import patsy as patsy\n",
    "import numpy as np\n",
    "import matplotlib.pyplot as plt\n",
    "import seaborn as sns\n",
    "\n",
    "from sklearn.model_selection import train_test_split\n",
    "from sklearn import preprocessing\n",
    "\n",
    "# SMOTE\n",
    "from imblearn.over_sampling import SMOTE\n",
    "\n",
    "# Undersampling\n",
    "from imblearn.under_sampling import RandomUnderSampler\n",
    "\n",
    "# Import other models:\n",
    "from sklearn import linear_model\n",
    "from sklearn.linear_model import LogisticRegression\n",
    "from sklearn.neighbors import KNeighborsClassifier\n",
    "from sklearn.svm import LinearSVC\n",
    "from sklearn.svm import SVC\n",
    "\n",
    "# Bagging:\n",
    "from sklearn.ensemble import BaggingClassifier\n",
    "\n",
    "# Searching hyperparameters and cross-validating\n",
    "from sklearn.model_selection import cross_val_score\n",
    "from sklearn.model_selection import GridSearchCV\n",
    "from sklearn.model_selection import RandomizedSearchCV\n",
    "\n",
    "from sklearn import metrics\n",
    "\n",
    "import pickle"
   ]
  },
  {
   "cell_type": "code",
   "execution_count": 2,
   "metadata": {
    "ExecuteTime": {
     "end_time": "2018-05-15T01:10:16.746927Z",
     "start_time": "2018-05-15T01:10:16.261116Z"
    }
   },
   "outputs": [],
   "source": [
    "with open(\"x_liv.pkl\", 'rb') as picklefile: \n",
    "    x_liv = pickle.load(picklefile)\n",
    "\n",
    "with open(\"y_liv.pkl\", 'rb') as picklefile: \n",
    "    y_liv = pickle.load(picklefile)"
   ]
  },
  {
   "cell_type": "code",
   "execution_count": 3,
   "metadata": {
    "ExecuteTime": {
     "end_time": "2018-05-15T01:10:18.246084Z",
     "start_time": "2018-05-15T01:10:16.748794Z"
    }
   },
   "outputs": [],
   "source": [
    "with open(\"y_train_liv.pkl\", 'rb') as picklefile: \n",
    "    y_train_liv = pickle.load(picklefile)\n",
    "\n",
    "with open(\"y_test_liv.pkl\", 'rb') as picklefile: \n",
    "    y_test_liv = pickle.load(picklefile)\n",
    "\n",
    "with open(\"x_train_liv.pkl\", 'rb') as picklefile: \n",
    "    x_train_liv = pickle.load(picklefile)\n",
    "\n",
    "with open(\"x_test_liv.pkl\", 'rb') as picklefile: \n",
    "    x_test_liv = pickle.load(picklefile)\n",
    "\n",
    "with open(\"x_train_scaled_liv.pkl\", 'rb') as picklefile: \n",
    "    x_train_scaled_liv = pickle.load(picklefile)\n",
    "\n",
    "with open(\"x_test_scaled_liv.pkl\", 'rb') as picklefile: \n",
    "    x_test_scaled_liv = pickle.load(picklefile)\n",
    "    \n",
    "with open(\"x_scaled_liv.pkl\", 'rb') as picklefile: \n",
    "    x_scaled_liv = pickle.load(picklefile)\n",
    "\n",
    "with open(\"patientdataICD9_liv.pkl\", 'rb') as picklefile: \n",
    "    patientdataICD9_liv = pickle.load(picklefile)"
   ]
  },
  {
   "cell_type": "code",
   "execution_count": 4,
   "metadata": {
    "ExecuteTime": {
     "end_time": "2018-05-15T01:10:18.722307Z",
     "start_time": "2018-05-15T01:10:18.699772Z"
    }
   },
   "outputs": [],
   "source": [
    "x_train = x_train_liv\n",
    "y_train = y_train_liv\n",
    "x_test = x_test_liv\n",
    "y_test = y_test_liv\n",
    "x = x_liv\n",
    "y = y_liv"
   ]
  },
  {
   "cell_type": "code",
   "execution_count": 5,
   "metadata": {
    "ExecuteTime": {
     "end_time": "2018-05-15T01:10:22.826509Z",
     "start_time": "2018-05-15T01:10:22.691523Z"
    }
   },
   "outputs": [],
   "source": [
    "y = y.str.replace('>30','NO')\n",
    "y_test = y_test.str.replace('>30','NO')\n",
    "y_train = y_train.str.replace('>30','NO')"
   ]
  },
  {
   "cell_type": "code",
   "execution_count": 6,
   "metadata": {
    "ExecuteTime": {
     "end_time": "2018-05-15T01:10:22.921229Z",
     "start_time": "2018-05-15T01:10:22.915151Z"
    }
   },
   "outputs": [
    {
     "data": {
      "text/plain": [
       "array(['NO', '<30'], dtype=object)"
      ]
     },
     "execution_count": 6,
     "metadata": {},
     "output_type": "execute_result"
    }
   ],
   "source": [
    "y.unique()"
   ]
  },
  {
   "cell_type": "code",
   "execution_count": 7,
   "metadata": {
    "ExecuteTime": {
     "end_time": "2018-05-15T01:10:23.713455Z",
     "start_time": "2018-05-15T01:10:23.554707Z"
    }
   },
   "outputs": [
    {
     "data": {
      "text/plain": [
       "<matplotlib.axes._subplots.AxesSubplot at 0x22786d945c8>"
      ]
     },
     "execution_count": 7,
     "metadata": {},
     "output_type": "execute_result"
    },
    {
     "data": {
      "image/png": "[encoded data removed]",
      "text/plain": [
       "<Figure size 432x288 with 1 Axes>"
      ]
     },
     "metadata": {
      "needs_background": "light"
     },
     "output_type": "display_data"
    }
   ],
   "source": [
    "sns.countplot(y)"
   ]
  },
  {
   "cell_type": "code",
   "execution_count": 8,
   "metadata": {
    "ExecuteTime": {
     "end_time": "2018-05-15T01:03:42.871274Z",
     "start_time": "2018-05-15T01:03:42.853309Z"
    }
   },
   "outputs": [
    {
     "data": {
      "text/plain": [
       "NO     88757\n",
       "<30    11357\n",
       "Name: readmitted, dtype: int64"
      ]
     },
     "execution_count": 8,
     "metadata": {},
     "output_type": "execute_result"
    }
   ],
   "source": [
    "y.value_counts()"
   ]
  },
  {
   "cell_type": "code",
   "execution_count": 9,
   "metadata": {
    "ExecuteTime": {
     "end_time": "2018-05-14T18:30:00.065256Z",
     "start_time": "2018-05-14T18:30:00.062820Z"
    }
   },
   "outputs": [],
   "source": [
    "# pulling these in from pickle now\n",
    "\n",
    "# x_train, x_test, y_train, y_test = train_test_split(x, y, test_size=0.25, random_state=42, stratify=y)"
   ]
  },
  {
   "cell_type": "code",
   "execution_count": 10,
   "metadata": {
    "ExecuteTime": {
     "end_time": "2018-05-14T18:30:00.674495Z",
     "start_time": "2018-05-14T18:30:00.670838Z"
    }
   },
   "outputs": [],
   "source": [
    "def quick_test(model, X, y):\n",
    "    xtrain, xtest, ytrain, ytest = train_test_split(X, y, test_size=0.3)\n",
    "    model.fit(xtrain, ytrain)\n",
    "    return model.score(xtest, ytest)\n",
    "\n",
    "def quick_test_afew_times(model, X, y, n=10):\n",
    "    return np.mean([quick_test(model, X, y) for j in range(n)])\n",
    "\n",
    "#linearsvc = LinearSVC()\n",
    "# Do the test 10 times with a LinearSVC and get the average score\n",
    "#quick_test_afew_times(linearsvc, X, y1)"
   ]
  },
  {
   "cell_type": "markdown",
   "metadata": {},
   "source": [
    "#### Decision tree and random forest:"
   ]
  },
  {
   "cell_type": "code",
   "execution_count": 11,
   "metadata": {
    "ExecuteTime": {
     "end_time": "2018-05-14T18:30:10.935853Z",
     "start_time": "2018-05-14T18:30:01.726722Z"
    }
   },
   "outputs": [
    {
     "data": {
      "text/plain": [
       "0.886026302646912"
      ]
     },
     "execution_count": 11,
     "metadata": {},
     "output_type": "execute_result"
    }
   ],
   "source": [
    "decisiontree = DecisionTreeClassifier(max_depth=2)\n",
    "quick_test_afew_times(decisiontree, x, y)\n",
    "\n",
    "# using x train and x test with x that had been scaled before test-train split:\n",
    "# 0.5664330167048804"
   ]
  },
  {
   "cell_type": "code",
   "execution_count": 12,
   "metadata": {
    "ExecuteTime": {
     "end_time": "2018-05-14T18:30:41.745670Z",
     "start_time": "2018-05-14T18:30:13.302400Z"
    }
   },
   "outputs": [
    {
     "data": {
      "text/plain": [
       "0.8863392708506742"
      ]
     },
     "execution_count": 12,
     "metadata": {},
     "output_type": "execute_result"
    }
   ],
   "source": [
    "randomforest = RandomForestClassifier()\n",
    "quick_test_afew_times(randomforest, x, y)\n",
    "\n",
    "# using x train and x test with x that had been scaled before test-train split:\n",
    "# 0.5488994431706519"
   ]
  },
  {
   "cell_type": "code",
   "execution_count": 13,
   "metadata": {
    "ExecuteTime": {
     "end_time": "2018-05-14T18:31:40.230937Z",
     "start_time": "2018-05-14T18:31:36.770283Z"
    }
   },
   "outputs": [
    {
     "name": "stdout",
     "output_type": "stream",
     "text": [
      "Accuracy: 0.887\n",
      "              precision    recall  f1-score   support\n",
      "\n",
      "         <30       0.56      0.01      0.01      2839\n",
      "          NO       0.89      1.00      0.94     22190\n",
      "\n",
      "    accuracy                           0.89     25029\n",
      "   macro avg       0.72      0.50      0.48     25029\n",
      "weighted avg       0.85      0.89      0.83     25029\n",
      "\n"
     ]
    }
   ],
   "source": [
    "randomforest = RandomForestClassifier()\n",
    "randomforest.fit(x_train, y_train)\n",
    "randomforest.score(x_test, y_test)\n",
    "y_pred = randomforest.predict(x_test)\n",
    "print(\"Accuracy: %.3f\"% metrics.accuracy_score(y_test, y_pred))\n",
    "print(metrics.classification_report(y_test, y_pred))"
   ]
  },
  {
   "cell_type": "markdown",
   "metadata": {
    "ExecuteTime": {
     "end_time": "2018-05-10T01:12:13.295942Z",
     "start_time": "2018-05-10T01:12:13.293423Z"
    }
   },
   "source": [
    "#### SMOTE:"
   ]
  },
  {
   "cell_type": "code",
   "execution_count": 14,
   "metadata": {
    "ExecuteTime": {
     "end_time": "2018-05-11T02:11:09.507364Z",
     "start_time": "2018-05-11T02:11:02.928321Z"
    }
   },
   "outputs": [],
   "source": [
    "sm = SMOTE(random_state=42)\n",
    "x_train_smote, y_train_smote = sm.fit_sample(x_train, y_train)"
   ]
  },
  {
   "cell_type": "code",
   "execution_count": 15,
   "metadata": {
    "ExecuteTime": {
     "end_time": "2018-05-11T02:11:09.651741Z",
     "start_time": "2018-05-11T02:11:09.509343Z"
    }
   },
   "outputs": [
    {
     "data": {
      "image/png": "[encoded data removed]",
      "text/plain": [
       "<Figure size 432x288 with 1 Axes>"
      ]
     },
     "metadata": {
      "needs_background": "light"
     },
     "output_type": "display_data"
    }
   ],
   "source": [
    "sns.countplot(y_train);"
   ]
  },
  {
   "cell_type": "code",
   "execution_count": 16,
   "metadata": {
    "ExecuteTime": {
     "end_time": "2018-05-11T02:11:09.916248Z",
     "start_time": "2018-05-11T02:11:09.653816Z"
    }
   },
   "outputs": [
    {
     "data": {
      "image/png": "[encoded data removed]",
      "text/plain": [
       "<Figure size 432x288 with 1 Axes>"
      ]
     },
     "metadata": {
      "needs_background": "light"
     },
     "output_type": "display_data"
    }
   ],
   "source": [
    "sns.countplot(y_train_smote);"
   ]
  },
  {
   "cell_type": "code",
   "execution_count": 17,
   "metadata": {
    "ExecuteTime": {
     "end_time": "2018-05-11T02:11:15.216638Z",
     "start_time": "2018-05-11T02:11:09.917992Z"
    }
   },
   "outputs": [
    {
     "name": "stdout",
     "output_type": "stream",
     "text": [
      "Accuracy: 0.887\n",
      "              precision    recall  f1-score   support\n",
      "\n",
      "         <30       0.57      0.01      0.02      2839\n",
      "          NO       0.89      1.00      0.94     22190\n",
      "\n",
      "    accuracy                           0.89     25029\n",
      "   macro avg       0.73      0.50      0.48     25029\n",
      "weighted avg       0.85      0.89      0.84     25029\n",
      "\n"
     ]
    }
   ],
   "source": [
    "randomforest = RandomForestClassifier()\n",
    "randomforest.fit(x_train_smote, y_train_smote)\n",
    "randomforest.score(x_test, y_test)\n",
    "y_pred = randomforest.predict(x_test)\n",
    "print(\"Accuracy: %.3f\"% metrics.accuracy_score(y_test, y_pred))\n",
    "print(metrics.classification_report(y_test, y_pred))"
   ]
  },
  {
   "cell_type": "code",
   "execution_count": 18,
   "metadata": {
    "ExecuteTime": {
     "end_time": "2018-05-11T02:32:19.512790Z",
     "start_time": "2018-05-11T02:30:54.285438Z"
    }
   },
   "outputs": [
    {
     "name": "stdout",
     "output_type": "stream",
     "text": [
      "Accuracy: 0.887\n",
      "              precision    recall  f1-score   support\n",
      "\n",
      "         <30       0.65      0.00      0.01      2839\n",
      "          NO       0.89      1.00      0.94     22190\n",
      "\n",
      "    accuracy                           0.89     25029\n",
      "   macro avg       0.77      0.50      0.47     25029\n",
      "weighted avg       0.86      0.89      0.83     25029\n",
      "\n"
     ]
    }
   ],
   "source": [
    "randomforest = RandomForestClassifier(n_estimators=200, min_samples_split=10)\n",
    "randomforest.fit(x_train_smote, y_train_smote)\n",
    "randomforest.score(x_test, y_test)\n",
    "y_pred = randomforest.predict(x_test)\n",
    "print(\"Accuracy: %.3f\"% metrics.accuracy_score(y_test, y_pred))\n",
    "print(metrics.classification_report(y_test, y_pred))"
   ]
  },
  {
   "cell_type": "markdown",
   "metadata": {},
   "source": [
    "#### Undersampling:"
   ]
  },
  {
   "cell_type": "code",
   "execution_count": 19,
   "metadata": {
    "ExecuteTime": {
     "end_time": "2018-05-15T01:03:51.691806Z",
     "start_time": "2018-05-15T01:03:51.462279Z"
    }
   },
   "outputs": [],
   "source": [
    "rus = RandomUnderSampler(random_state=0)\n",
    "x_train_undersampled, y_train_undersampled = rus.fit_sample(x_train, y_train)"
   ]
  },
  {
   "cell_type": "code",
   "execution_count": 20,
   "metadata": {
    "ExecuteTime": {
     "end_time": "2018-05-15T01:03:51.914960Z",
     "start_time": "2018-05-15T01:03:51.816228Z"
    }
   },
   "outputs": [
    {
     "data": {
      "image/png": "[encoded data removed]",
      "text/plain": [
       "<Figure size 432x288 with 1 Axes>"
      ]
     },
     "metadata": {
      "needs_background": "light"
     },
     "output_type": "display_data"
    }
   ],
   "source": [
    "sns.countplot(y_train_undersampled);"
   ]
  },
  {
   "cell_type": "code",
   "execution_count": 21,
   "metadata": {
    "ExecuteTime": {
     "end_time": "2018-05-15T01:04:03.723763Z",
     "start_time": "2018-05-15T01:03:52.413721Z"
    }
   },
   "outputs": [
    {
     "name": "stdout",
     "output_type": "stream",
     "text": [
      "Accuracy: 0.616\n",
      "              precision    recall  f1-score   support\n",
      "\n",
      "         <30       0.17      0.62      0.27      2839\n",
      "          NO       0.93      0.62      0.74     22190\n",
      "\n",
      "    accuracy                           0.62     25029\n",
      "   macro avg       0.55      0.62      0.50     25029\n",
      "weighted avg       0.84      0.62      0.69     25029\n",
      "\n"
     ]
    }
   ],
   "source": [
    "randomforest = RandomForestClassifier(n_estimators=200)\n",
    "randomforest.fit(x_train_undersampled, y_train_undersampled)\n",
    "randomforest.score(x_test, y_test)\n",
    "y_pred = randomforest.predict(x_test)\n",
    "print(\"Accuracy: %.3f\"% metrics.accuracy_score(y_test, y_pred))\n",
    "print(metrics.classification_report(y_test, y_pred))"
   ]
  },
  {
   "cell_type": "code",
   "execution_count": 22,
   "metadata": {
    "ExecuteTime": {
     "end_time": "2018-05-14T18:38:26.331566Z",
     "start_time": "2018-05-14T18:38:15.775145Z"
    }
   },
   "outputs": [
    {
     "name": "stdout",
     "output_type": "stream",
     "text": [
      "Accuracy: 0.616\n",
      "              precision    recall  f1-score   support\n",
      "\n",
      "         <30       0.17      0.63      0.27      2839\n",
      "          NO       0.93      0.61      0.74     22190\n",
      "\n",
      "    accuracy                           0.62     25029\n",
      "   macro avg       0.55      0.62      0.51     25029\n",
      "weighted avg       0.84      0.62      0.69     25029\n",
      "\n"
     ]
    }
   ],
   "source": [
    "randomforest = RandomForestClassifier(n_estimators=200)\n",
    "randomforest.fit(x_train_undersampled, y_train_undersampled)\n",
    "randomforest.score(x_test, y_test)\n",
    "y_pred = randomforest.predict(x_test)\n",
    "print(\"Accuracy: %.3f\"% metrics.accuracy_score(y_test, y_pred))\n",
    "print(metrics.classification_report(y_test, y_pred))"
   ]
  },
  {
   "cell_type": "code",
   "execution_count": 23,
   "metadata": {
    "ExecuteTime": {
     "end_time": "2018-05-14T19:28:25.953821Z",
     "start_time": "2018-05-14T19:28:15.523287Z"
    }
   },
   "outputs": [
    {
     "name": "stdout",
     "output_type": "stream",
     "text": [
      "Accuracy: 0.857\n",
      "              precision    recall  f1-score   support\n",
      "\n",
      "         <30       0.28      0.16      0.21      2839\n",
      "          NO       0.90      0.95      0.92     22190\n",
      "\n",
      "    accuracy                           0.86     25029\n",
      "   macro avg       0.59      0.56      0.56     25029\n",
      "weighted avg       0.83      0.86      0.84     25029\n",
      "\n",
      "[[  466  2373]\n",
      " [ 1197 20993]]\n"
     ]
    }
   ],
   "source": [
    "class_weights = {}\n",
    "class_weights['NO'] = 1\n",
    "class_weights['<30'] = 0.15\n",
    "randomforest = RandomForestClassifier(n_estimators=200, class_weight = class_weights, min_samples_split=10)\n",
    "randomforest.fit(x_train_undersampled, y_train_undersampled)\n",
    "randomforest.score(x_test, y_test)\n",
    "y_pred = randomforest.predict(x_test)\n",
    "print(\"Accuracy: %.3f\"% metrics.accuracy_score(y_test, y_pred))\n",
    "print(metrics.classification_report(y_test, y_pred))\n",
    "print(metrics.confusion_matrix(y_test, y_pred))"
   ]
  },
  {
   "cell_type": "code",
   "execution_count": null,
   "metadata": {},
   "outputs": [],
   "source": []
  },
  {
   "cell_type": "markdown",
   "metadata": {},
   "source": [
    "model.train(x_train, y_train)\n",
    "y_pred = model.predict(x_test)\n",
    "metrics.confusion_matrix(y_test, pred)\n",
    "\n",
    "thresholding:\n",
    "y_pred_proba = model.predict_proba(x_test)\n",
    "y_pred = y_pred_proba >= 0.25 (this is the value to play around with)\n",
    "metrics.confusion_matrix(y_test, y_pred)\n",
    "plot prec and recall by threshold\n",
    "metrics.precision_recall_curve\n",
    "\n",
    "underfit = adding complexity helps\n",
    "overfit = adding complexity hurts"
   ]
  },
  {
   "cell_type": "code",
   "execution_count": 24,
   "metadata": {
    "ExecuteTime": {
     "end_time": "2018-05-14T18:57:07.456989Z",
     "start_time": "2018-05-14T18:56:57.948612Z"
    }
   },
   "outputs": [
    {
     "name": "stdout",
     "output_type": "stream",
     "text": [
      "Accuracy: 0.625\n",
      "              precision    recall  f1-score   support\n",
      "\n",
      "         <30       0.18      0.63      0.28      2839\n",
      "          NO       0.93      0.62      0.75     22190\n",
      "\n",
      "    accuracy                           0.63     25029\n",
      "   macro avg       0.55      0.63      0.51     25029\n",
      "weighted avg       0.84      0.63      0.69     25029\n",
      "\n"
     ]
    }
   ],
   "source": [
    "randomforest = RandomForestClassifier(n_estimators=200, min_samples_split=10)\n",
    "randomforest.fit(x_train_undersampled, y_train_undersampled)\n",
    "randomforest.score(x_test, y_test)\n",
    "y_pred = randomforest.predict(x_test)\n",
    "print(\"Accuracy: %.3f\"% metrics.accuracy_score(y_test, y_pred))\n",
    "print(metrics.classification_report(y_test, y_pred))"
   ]
  },
  {
   "cell_type": "code",
   "execution_count": 25,
   "metadata": {
    "ExecuteTime": {
     "end_time": "2018-05-14T19:05:51.062105Z",
     "start_time": "2018-05-14T19:05:50.002474Z"
    }
   },
   "outputs": [],
   "source": [
    "model = randomforest\n",
    "y_pred_proba = model.predict_proba(x_test)\n",
    "y_pred = y_pred_proba >= 0.25 #(this is the value to play around with)\n",
    "#y_pred\n",
    "#print(\"Accuracy: %.3f\"% metrics.accuracy_score(y_test, y_pred))\n",
    "#print(metrics.classification_report(y_test, y_pred))\n",
    "#metrics.confusion_matrix(y_test, y_pred)\n",
    "#plot prec and recall by threshold"
   ]
  },
  {
   "cell_type": "code",
   "execution_count": 26,
   "metadata": {
    "ExecuteTime": {
     "end_time": "2018-05-11T02:05:06.545194Z",
     "start_time": "2018-05-11T02:04:57.943722Z"
    }
   },
   "outputs": [
    {
     "name": "stdout",
     "output_type": "stream",
     "text": [
      "Accuracy: 0.627\n",
      "              precision    recall  f1-score   support\n",
      "\n",
      "         <30       0.18      0.63      0.28      2839\n",
      "          NO       0.93      0.63      0.75     22190\n",
      "\n",
      "    accuracy                           0.63     25029\n",
      "   macro avg       0.55      0.63      0.51     25029\n",
      "weighted avg       0.84      0.63      0.69     25029\n",
      "\n"
     ]
    }
   ],
   "source": [
    "randomforest = RandomForestClassifier(n_estimators=200, min_samples_split=20)\n",
    "randomforest.fit(x_train_undersampled, y_train_undersampled)\n",
    "randomforest.score(x_test, y_test)\n",
    "y_pred = randomforest.predict(x_test)\n",
    "print(\"Accuracy: %.3f\"% metrics.accuracy_score(y_test, y_pred))\n",
    "print(metrics.classification_report(y_test, y_pred))"
   ]
  },
  {
   "cell_type": "code",
   "execution_count": 27,
   "metadata": {
    "ExecuteTime": {
     "end_time": "2018-05-11T02:09:12.787939Z",
     "start_time": "2018-05-11T02:08:25.794354Z"
    }
   },
   "outputs": [
    {
     "name": "stdout",
     "output_type": "stream",
     "text": [
      "Accuracy: 0.627\n",
      "              precision    recall  f1-score   support\n",
      "\n",
      "         <30       0.18      0.63      0.28      2839\n",
      "          NO       0.93      0.63      0.75     22190\n",
      "\n",
      "    accuracy                           0.63     25029\n",
      "   macro avg       0.55      0.63      0.51     25029\n",
      "weighted avg       0.84      0.63      0.70     25029\n",
      "\n"
     ]
    }
   ],
   "source": [
    "randomforest = RandomForestClassifier(n_estimators=1000, min_samples_split=10)\n",
    "randomforest.fit(x_train_undersampled, y_train_undersampled)\n",
    "randomforest.score(x_test, y_test)\n",
    "y_pred = randomforest.predict(x_test)\n",
    "print(\"Accuracy: %.3f\"% metrics.accuracy_score(y_test, y_pred))\n",
    "print(metrics.classification_report(y_test, y_pred))"
   ]
  },
  {
   "cell_type": "code",
   "execution_count": null,
   "metadata": {},
   "outputs": [],
   "source": []
  },
  {
   "cell_type": "code",
   "execution_count": 28,
   "metadata": {
    "ExecuteTime": {
     "end_time": "2018-05-10T16:58:29.630948Z",
     "start_time": "2018-05-10T16:58:29.627659Z"
    }
   },
   "outputs": [],
   "source": [
    "# tune random forest hyperparameters\n",
    "# try grid-search CV\n",
    "# try ensembling with the RBF"
   ]
  },
  {
   "cell_type": "code",
   "execution_count": null,
   "metadata": {},
   "outputs": [],
   "source": []
  },
  {
   "cell_type": "code",
   "execution_count": null,
   "metadata": {},
   "outputs": [],
   "source": []
  },
  {
   "cell_type": "code",
   "execution_count": null,
   "metadata": {},
   "outputs": [],
   "source": []
  },
  {
   "cell_type": "markdown",
   "metadata": {
    "ExecuteTime": {
     "end_time": "2018-05-10T18:06:49.685164Z",
     "start_time": "2018-05-10T18:06:49.675374Z"
    }
   },
   "source": [
    "#### Extra-random trees:"
   ]
  },
  {
   "cell_type": "code",
   "execution_count": 29,
   "metadata": {
    "ExecuteTime": {
     "end_time": "2018-05-11T02:06:00.704523Z",
     "start_time": "2018-05-11T02:05:48.269750Z"
    }
   },
   "outputs": [
    {
     "name": "stdout",
     "output_type": "stream",
     "text": [
      "Accuracy: 0.612\n",
      "              precision    recall  f1-score   support\n",
      "\n",
      "         <30       0.17      0.62      0.27      2839\n",
      "          NO       0.93      0.61      0.74     22190\n",
      "\n",
      "    accuracy                           0.61     25029\n",
      "   macro avg       0.55      0.62      0.50     25029\n",
      "weighted avg       0.84      0.61      0.68     25029\n",
      "\n"
     ]
    }
   ],
   "source": [
    "extraforest = ExtraTreesClassifier(n_estimators=200, min_samples_split=10)\n",
    "extraforest.fit(x_train_undersampled, y_train_undersampled)\n",
    "extraforest.score(x_test, y_test)\n",
    "y_pred = extraforest.predict(x_test)\n",
    "print(\"Accuracy: %.3f\"% metrics.accuracy_score(y_test, y_pred))\n",
    "print(metrics.classification_report(y_test, y_pred))"
   ]
  },
  {
   "cell_type": "code",
   "execution_count": 30,
   "metadata": {
    "ExecuteTime": {
     "end_time": "2018-05-11T02:08:25.792478Z",
     "start_time": "2018-05-11T02:06:00.706545Z"
    }
   },
   "outputs": [
    {
     "name": "stdout",
     "output_type": "stream",
     "text": [
      "Accuracy: 0.606\n",
      "              precision    recall  f1-score   support\n",
      "\n",
      "         <30       0.17      0.62      0.26      2839\n",
      "          NO       0.93      0.60      0.73     22190\n",
      "\n",
      "    accuracy                           0.61     25029\n",
      "   macro avg       0.55      0.61      0.50     25029\n",
      "weighted avg       0.84      0.61      0.68     25029\n",
      "\n"
     ]
    }
   ],
   "source": [
    "extraforest = ExtraTreesClassifier(n_estimators=2000)\n",
    "extraforest.fit(x_train_undersampled, y_train_undersampled)\n",
    "extraforest.score(x_test, y_test)\n",
    "y_pred = extraforest.predict(x_test)\n",
    "print(\"Accuracy: %.3f\"% metrics.accuracy_score(y_test, y_pred))\n",
    "print(metrics.classification_report(y_test, y_pred))"
   ]
  },
  {
   "cell_type": "code",
   "execution_count": 31,
   "metadata": {
    "scrolled": true
   },
   "outputs": [
    {
     "name": "stdout",
     "output_type": "stream",
     "text": [
      "Number of estimators: 100.000\n",
      "Accuracy: 0.591\n",
      "              precision    recall  f1-score   support\n",
      "\n",
      "         <30       0.16      0.63      0.26      2839\n",
      "          NO       0.93      0.59      0.72     22190\n",
      "\n",
      "    accuracy                           0.59     25029\n",
      "   macro avg       0.54      0.61      0.49     25029\n",
      "weighted avg       0.84      0.59      0.67     25029\n",
      "\n",
      "Number of estimators: 200.000\n",
      "Accuracy: 0.598\n",
      "              precision    recall  f1-score   support\n",
      "\n",
      "         <30       0.16      0.62      0.26      2839\n",
      "          NO       0.92      0.59      0.72     22190\n",
      "\n",
      "    accuracy                           0.60     25029\n",
      "   macro avg       0.54      0.61      0.49     25029\n",
      "weighted avg       0.84      0.60      0.67     25029\n",
      "\n",
      "Number of estimators: 300.000\n",
      "Accuracy: 0.605\n",
      "              precision    recall  f1-score   support\n",
      "\n",
      "         <30       0.17      0.63      0.26      2839\n",
      "          NO       0.93      0.60      0.73     22190\n",
      "\n",
      "    accuracy                           0.60     25029\n",
      "   macro avg       0.55      0.61      0.50     25029\n",
      "weighted avg       0.84      0.60      0.68     25029\n",
      "\n",
      "Number of estimators: 400.000\n",
      "Accuracy: 0.603\n",
      "              precision    recall  f1-score   support\n",
      "\n",
      "         <30       0.17      0.62      0.26      2839\n",
      "          NO       0.93      0.60      0.73     22190\n",
      "\n",
      "    accuracy                           0.60     25029\n",
      "   macro avg       0.55      0.61      0.50     25029\n",
      "weighted avg       0.84      0.60      0.68     25029\n",
      "\n",
      "Number of estimators: 500.000\n",
      "Accuracy: 0.604\n",
      "              precision    recall  f1-score   support\n",
      "\n",
      "         <30       0.17      0.62      0.26      2839\n",
      "          NO       0.93      0.60      0.73     22190\n",
      "\n",
      "    accuracy                           0.60     25029\n",
      "   macro avg       0.55      0.61      0.50     25029\n",
      "weighted avg       0.84      0.60      0.68     25029\n",
      "\n",
      "Number of estimators: 600.000\n",
      "Accuracy: 0.602\n",
      "              precision    recall  f1-score   support\n",
      "\n",
      "         <30       0.16      0.61      0.26      2839\n",
      "          NO       0.92      0.60      0.73     22190\n",
      "\n",
      "    accuracy                           0.60     25029\n",
      "   macro avg       0.54      0.61      0.49     25029\n",
      "weighted avg       0.84      0.60      0.67     25029\n",
      "\n",
      "Number of estimators: 700.000\n",
      "Accuracy: 0.604\n",
      "              precision    recall  f1-score   support\n",
      "\n",
      "         <30       0.17      0.61      0.26      2839\n",
      "          NO       0.92      0.60      0.73     22190\n",
      "\n",
      "    accuracy                           0.60     25029\n",
      "   macro avg       0.54      0.61      0.50     25029\n",
      "weighted avg       0.84      0.60      0.68     25029\n",
      "\n",
      "Number of estimators: 800.000\n",
      "Accuracy: 0.605\n",
      "              precision    recall  f1-score   support\n",
      "\n",
      "         <30       0.17      0.62      0.26      2839\n",
      "          NO       0.93      0.60      0.73     22190\n",
      "\n",
      "    accuracy                           0.60     25029\n",
      "   macro avg       0.55      0.61      0.50     25029\n",
      "weighted avg       0.84      0.60      0.68     25029\n",
      "\n",
      "Number of estimators: 900.000\n",
      "Accuracy: 0.605\n",
      "              precision    recall  f1-score   support\n",
      "\n",
      "         <30       0.17      0.63      0.26      2839\n",
      "          NO       0.93      0.60      0.73     22190\n",
      "\n",
      "    accuracy                           0.61     25029\n",
      "   macro avg       0.55      0.61      0.50     25029\n",
      "weighted avg       0.84      0.61      0.68     25029\n",
      "\n",
      "Number of estimators: 1000.000\n",
      "Accuracy: 0.606\n",
      "              precision    recall  f1-score   support\n",
      "\n",
      "         <30       0.17      0.62      0.26      2839\n",
      "          NO       0.93      0.60      0.73     22190\n",
      "\n",
      "    accuracy                           0.61     25029\n",
      "   macro avg       0.55      0.61      0.50     25029\n",
      "weighted avg       0.84      0.61      0.68     25029\n",
      "\n",
      "Number of estimators: 1100.000\n",
      "Accuracy: 0.607\n",
      "              precision    recall  f1-score   support\n",
      "\n",
      "         <30       0.17      0.62      0.26      2839\n",
      "          NO       0.93      0.60      0.73     22190\n",
      "\n",
      "    accuracy                           0.61     25029\n",
      "   macro avg       0.55      0.61      0.50     25029\n",
      "weighted avg       0.84      0.61      0.68     25029\n",
      "\n",
      "Number of estimators: 1200.000\n",
      "Accuracy: 0.606\n",
      "              precision    recall  f1-score   support\n",
      "\n",
      "         <30       0.17      0.62      0.26      2839\n",
      "          NO       0.93      0.60      0.73     22190\n",
      "\n",
      "    accuracy                           0.61     25029\n",
      "   macro avg       0.55      0.61      0.50     25029\n",
      "weighted avg       0.84      0.61      0.68     25029\n",
      "\n",
      "Number of estimators: 1300.000\n",
      "Accuracy: 0.606\n",
      "              precision    recall  f1-score   support\n",
      "\n",
      "         <30       0.17      0.62      0.26      2839\n",
      "          NO       0.93      0.60      0.73     22190\n",
      "\n",
      "    accuracy                           0.61     25029\n",
      "   macro avg       0.55      0.61      0.50     25029\n",
      "weighted avg       0.84      0.61      0.68     25029\n",
      "\n",
      "Number of estimators: 1400.000\n",
      "Accuracy: 0.605\n",
      "              precision    recall  f1-score   support\n",
      "\n",
      "         <30       0.17      0.62      0.26      2839\n",
      "          NO       0.93      0.60      0.73     22190\n",
      "\n",
      "    accuracy                           0.61     25029\n",
      "   macro avg       0.55      0.61      0.50     25029\n",
      "weighted avg       0.84      0.61      0.68     25029\n",
      "\n",
      "Number of estimators: 1500.000\n",
      "Accuracy: 0.607\n",
      "              precision    recall  f1-score   support\n",
      "\n",
      "         <30       0.17      0.62      0.26      2839\n",
      "          NO       0.93      0.61      0.73     22190\n",
      "\n",
      "    accuracy                           0.61     25029\n",
      "   macro avg       0.55      0.61      0.50     25029\n",
      "weighted avg       0.84      0.61      0.68     25029\n",
      "\n",
      "Number of estimators: 1600.000\n",
      "Accuracy: 0.606\n",
      "              precision    recall  f1-score   support\n",
      "\n",
      "         <30       0.17      0.62      0.26      2839\n",
      "          NO       0.93      0.60      0.73     22190\n",
      "\n",
      "    accuracy                           0.61     25029\n",
      "   macro avg       0.55      0.61      0.50     25029\n",
      "weighted avg       0.84      0.61      0.68     25029\n",
      "\n",
      "Number of estimators: 1700.000\n",
      "Accuracy: 0.606\n",
      "              precision    recall  f1-score   support\n",
      "\n",
      "         <30       0.17      0.62      0.26      2839\n",
      "          NO       0.93      0.60      0.73     22190\n",
      "\n",
      "    accuracy                           0.61     25029\n",
      "   macro avg       0.55      0.61      0.50     25029\n",
      "weighted avg       0.84      0.61      0.68     25029\n",
      "\n",
      "Number of estimators: 1800.000\n",
      "Accuracy: 0.605\n",
      "              precision    recall  f1-score   support\n",
      "\n",
      "         <30       0.17      0.62      0.26      2839\n",
      "          NO       0.93      0.60      0.73     22190\n",
      "\n",
      "    accuracy                           0.61     25029\n",
      "   macro avg       0.55      0.61      0.50     25029\n",
      "weighted avg       0.84      0.61      0.68     25029\n",
      "\n",
      "Number of estimators: 1900.000\n",
      "Accuracy: 0.606\n",
      "              precision    recall  f1-score   support\n",
      "\n",
      "         <30       0.17      0.62      0.26      2839\n",
      "          NO       0.92      0.61      0.73     22190\n",
      "\n",
      "    accuracy                           0.61     25029\n",
      "   macro avg       0.55      0.61      0.50     25029\n",
      "weighted avg       0.84      0.61      0.68     25029\n",
      "\n"
     ]
    }
   ],
   "source": [
    "for n_estimator in range(100, 2000, 100):\n",
    "    extraforest = ExtraTreesClassifier(n_estimators=n_estimator)\n",
    "    extraforest.fit(x_train_undersampled, y_train_undersampled)\n",
    "    extraforest.score(x_test, y_test)\n",
    "    y_pred = extraforest.predict(x_test)\n",
    "    print(\"Number of estimators: %.3f\"% n_estimator)\n",
    "    print(\"Accuracy: %.3f\"% metrics.accuracy_score(y_test, y_pred))\n",
    "    print(metrics.classification_report(y_test, y_pred))"
   ]
  },
  {
   "cell_type": "code",
   "execution_count": null,
   "metadata": {},
   "outputs": [],
   "source": []
  },
  {
   "cell_type": "markdown",
   "metadata": {},
   "source": [
    "#### Boosted trees:"
   ]
  },
  {
   "cell_type": "code",
   "execution_count": 32,
   "metadata": {
    "ExecuteTime": {
     "end_time": "2018-05-11T02:10:45.838495Z",
     "start_time": "2018-05-11T02:09:12.790114Z"
    }
   },
   "outputs": [
    {
     "name": "stdout",
     "output_type": "stream",
     "text": [
      "Accuracy: 0.886\n",
      "              precision    recall  f1-score   support\n",
      "\n",
      "         <30       0.43      0.02      0.03      2839\n",
      "          NO       0.89      1.00      0.94     22190\n",
      "\n",
      "    accuracy                           0.89     25029\n",
      "   macro avg       0.66      0.51      0.48     25029\n",
      "weighted avg       0.84      0.89      0.84     25029\n",
      "\n"
     ]
    }
   ],
   "source": [
    "# boosted no resampling\n",
    "\n",
    "boostforest = AdaBoostClassifier(n_estimators=200)\n",
    "boostforest.fit(x_train, y_train)\n",
    "boostforest.score(x_test, y_test)\n",
    "y_pred = boostforest.predict(x_test)\n",
    "print(\"Accuracy: %.3f\"% metrics.accuracy_score(y_test, y_pred))\n",
    "print(metrics.classification_report(y_test, y_pred))"
   ]
  },
  {
   "cell_type": "code",
   "execution_count": 33,
   "metadata": {
    "ExecuteTime": {
     "end_time": "2018-05-11T02:11:02.926533Z",
     "start_time": "2018-05-11T02:10:45.842730Z"
    }
   },
   "outputs": [
    {
     "name": "stdout",
     "output_type": "stream",
     "text": [
      "Accuracy: 0.661\n",
      "              precision    recall  f1-score   support\n",
      "\n",
      "         <30       0.18      0.58      0.28      2839\n",
      "          NO       0.93      0.67      0.78     22190\n",
      "\n",
      "    accuracy                           0.66     25029\n",
      "   macro avg       0.56      0.63      0.53     25029\n",
      "weighted avg       0.84      0.66      0.72     25029\n",
      "\n"
     ]
    }
   ],
   "source": [
    "# boosted undersampled\n",
    "\n",
    "boostforest = AdaBoostClassifier(n_estimators=200)\n",
    "boostforest.fit(x_train_undersampled, y_train_undersampled)\n",
    "boostforest.score(x_test, y_test)\n",
    "y_pred = boostforest.predict(x_test)\n",
    "print(\"Accuracy: %.3f\"% metrics.accuracy_score(y_test, y_pred))\n",
    "print(metrics.classification_report(y_test, y_pred))"
   ]
  },
  {
   "cell_type": "code",
   "execution_count": 34,
   "metadata": {
    "ExecuteTime": {
     "end_time": "2018-05-10T17:48:21.193570Z",
     "start_time": "2018-05-10T17:43:46.625127Z"
    }
   },
   "outputs": [
    {
     "name": "stdout",
     "output_type": "stream",
     "text": [
      "Accuracy: 0.653\n",
      "              precision    recall  f1-score   support\n",
      "\n",
      "         <30       0.18      0.58      0.28      2839\n",
      "          NO       0.93      0.66      0.77     22190\n",
      "\n",
      "    accuracy                           0.65     25029\n",
      "   macro avg       0.55      0.62      0.52     25029\n",
      "weighted avg       0.84      0.65      0.72     25029\n",
      "\n"
     ]
    }
   ],
   "source": [
    "# boosted undersampled\n",
    "\n",
    "boostforest = AdaBoostClassifier(n_estimators=2000)\n",
    "boostforest.fit(x_train_undersampled, y_train_undersampled)\n",
    "boostforest.score(x_test, y_test)\n",
    "y_pred = boostforest.predict(x_test)\n",
    "print(\"Accuracy: %.3f\"% metrics.accuracy_score(y_test, y_pred))\n",
    "print(metrics.classification_report(y_test, y_pred))"
   ]
  },
  {
   "cell_type": "code",
   "execution_count": 35,
   "metadata": {
    "ExecuteTime": {
     "end_time": "2018-05-11T02:46:28.520028Z",
     "start_time": "2018-05-11T02:42:59.282749Z"
    }
   },
   "outputs": [
    {
     "name": "stdout",
     "output_type": "stream",
     "text": [
      "Accuracy: 0.885\n",
      "              precision    recall  f1-score   support\n",
      "\n",
      "         <30       0.36      0.02      0.03      2839\n",
      "          NO       0.89      1.00      0.94     22190\n",
      "\n",
      "    accuracy                           0.89     25029\n",
      "   macro avg       0.62      0.51      0.48     25029\n",
      "weighted avg       0.83      0.89      0.84     25029\n",
      "\n"
     ]
    }
   ],
   "source": [
    "# boosted SMOTE\n",
    "\n",
    "boostforest = AdaBoostClassifier(n_estimators=200)\n",
    "boostforest.fit(x_train_smote, y_train_smote)\n",
    "boostforest.score(x_test, y_test)\n",
    "y_pred = boostforest.predict(x_test)\n",
    "print(\"Accuracy: %.3f\"% metrics.accuracy_score(y_test, y_pred))\n",
    "print(metrics.classification_report(y_test, y_pred))"
   ]
  },
  {
   "cell_type": "code",
   "execution_count": null,
   "metadata": {},
   "outputs": [],
   "source": []
  },
  {
   "cell_type": "markdown",
   "metadata": {},
   "source": [
    "#### Best model:"
   ]
  },
  {
   "cell_type": "code",
   "execution_count": 36,
   "metadata": {
    "ExecuteTime": {
     "end_time": "2018-05-15T01:04:13.472320Z",
     "start_time": "2018-05-15T01:04:04.253794Z"
    }
   },
   "outputs": [
    {
     "name": "stdout",
     "output_type": "stream",
     "text": [
      "Accuracy: 0.625\n",
      "              precision    recall  f1-score   support\n",
      "\n",
      "         <30       0.18      0.63      0.28      2839\n",
      "          NO       0.93      0.62      0.75     22190\n",
      "\n",
      "    accuracy                           0.63     25029\n",
      "   macro avg       0.55      0.63      0.51     25029\n",
      "weighted avg       0.84      0.63      0.69     25029\n",
      "\n"
     ]
    }
   ],
   "source": [
    "randomforest = RandomForestClassifier(n_estimators=200, min_samples_split=10)\n",
    "randomforest.fit(x_train_undersampled, y_train_undersampled)\n",
    "randomforest.score(x_test, y_test)\n",
    "y_pred = randomforest.predict(x_test)\n",
    "print(\"Accuracy: %.3f\"% metrics.accuracy_score(y_test, y_pred))\n",
    "print(metrics.classification_report(y_test, y_pred))"
   ]
  },
  {
   "cell_type": "code",
   "execution_count": 37,
   "metadata": {
    "ExecuteTime": {
     "end_time": "2018-05-15T01:04:13.511596Z",
     "start_time": "2018-05-15T01:04:13.474052Z"
    }
   },
   "outputs": [
    {
     "data": {
      "text/html": [
       "<div>\n",
       "<style scoped>\n",
       "    .dataframe tbody tr th:only-of-type {\n",
       "        vertical-align: middle;\n",
       "    }\n",
       "\n",
       "    .dataframe tbody tr th {\n",
       "        vertical-align: top;\n",
       "    }\n",
       "\n",
       "    .dataframe thead th {\n",
       "        text-align: right;\n",
       "    }\n",
       "</style>\n",
       "<table border=\"1\" class=\"dataframe\">\n",
       "  <thead>\n",
       "    <tr style=\"text-align: right;\">\n",
       "      <th>Predicted</th>\n",
       "      <th>&lt;30</th>\n",
       "      <th>NO</th>\n",
       "    </tr>\n",
       "    <tr>\n",
       "      <th>Actual</th>\n",
       "      <th></th>\n",
       "      <th></th>\n",
       "    </tr>\n",
       "  </thead>\n",
       "  <tbody>\n",
       "    <tr>\n",
       "      <th>&lt;30</th>\n",
       "      <td>1788</td>\n",
       "      <td>1051</td>\n",
       "    </tr>\n",
       "    <tr>\n",
       "      <th>NO</th>\n",
       "      <td>8323</td>\n",
       "      <td>13867</td>\n",
       "    </tr>\n",
       "  </tbody>\n",
       "</table>\n",
       "</div>"
      ],
      "text/plain": [
       "Predicted   <30     NO\n",
       "Actual                \n",
       "<30        1788   1051\n",
       "NO         8323  13867"
      ]
     },
     "execution_count": 37,
     "metadata": {},
     "output_type": "execute_result"
    }
   ],
   "source": [
    "pd.crosstab(y_test, y_pred, rownames=['Actual'], colnames=['Predicted'])"
   ]
  },
  {
   "cell_type": "code",
   "execution_count": 38,
   "metadata": {
    "ExecuteTime": {
     "end_time": "2018-05-15T01:04:13.538402Z",
     "start_time": "2018-05-15T01:04:13.513356Z"
    }
   },
   "outputs": [],
   "source": [
    "feature_importance = list(zip(x_train.columns, randomforest.feature_importances_))"
   ]
  },
  {
   "cell_type": "code",
   "execution_count": 39,
   "metadata": {
    "ExecuteTime": {
     "end_time": "2018-05-15T01:04:13.542681Z",
     "start_time": "2018-05-15T01:04:13.540312Z"
    }
   },
   "outputs": [],
   "source": [
    "sorted_by_second = sorted(feature_importance, key=lambda tup: tup[1], reverse=True)"
   ]
  },
  {
   "cell_type": "code",
   "execution_count": 40,
   "metadata": {
    "ExecuteTime": {
     "end_time": "2018-05-15T01:04:14.686347Z",
     "start_time": "2018-05-15T01:04:14.681692Z"
    }
   },
   "outputs": [
    {
     "data": {
      "text/plain": [
       "[('num_lab_procedures', 0.06041022321956536),\n",
       " ('number_inpatient', 0.05819116261455249),\n",
       " ('num_medications', 0.05514973610259993),\n",
       " ('time_in_hospital', 0.04048319662014618),\n",
       " ('number_diagnoses', 0.029313069381748127),\n",
       " ('num_procedures', 0.027689312259766518),\n",
       " ('number_emergency', 0.01771947102584131),\n",
       " ('discharge_disposition_id[T.Discharged to home]', 0.017387110991273134),\n",
       " ('number_outpatient', 0.016837998873200588),\n",
       " ('gender[T.Male]', 0.011006558646560097),\n",
       " ('discharge_disposition_id[T.Discharged/transferred to another rehab fac including rehab units of a hospital .]',\n",
       "  0.010690595830555817),\n",
       " ('payer_code[T.MC]', 0.01035499498609545),\n",
       " ('diag_2[T.Diseases Of The Circulatory System]', 0.009829440804844743),\n",
       " ('diag_1[T.Diseases Of The Circulatory System]', 0.009587813699690615),\n",
       " ('age[T.[70-80)]', 0.009077456099347781),\n",
       " ('diag_3[T.Diseases Of The Circulatory System]', 0.009071209974297867),\n",
       " ('age[T.[60-70)]', 0.008980052601102548),\n",
       " ('medical_specialty[T.InternalMedicine]', 0.008894605590466054),\n",
       " ('race[T.Caucasian]', 0.008892658580509891),\n",
       " ('admission_type_id[T.Emergency]', 0.008507051352530109),\n",
       " ('diag_3[T.Supplementary Classification Of External Causes Of Injury And Poisoning]',\n",
       "  0.008487097675802269),\n",
       " ('change[T.No]', 0.008470277135764181),\n",
       " ('age[T.[50-60)]', 0.008382955193355541),\n",
       " ('insulin[T.Steady]', 0.008251611244121344),\n",
       " ('insulin[T.No]', 0.008236492934780876)]"
      ]
     },
     "execution_count": 40,
     "metadata": {},
     "output_type": "execute_result"
    }
   ],
   "source": [
    "sorted_by_second[0:25]"
   ]
  },
  {
   "cell_type": "code",
   "execution_count": 41,
   "metadata": {
    "ExecuteTime": {
     "end_time": "2018-05-15T01:04:19.189600Z",
     "start_time": "2018-05-15T01:04:19.186893Z"
    }
   },
   "outputs": [],
   "source": [
    "coef_to_plot = sorted_by_second[0:25]"
   ]
  },
  {
   "cell_type": "code",
   "execution_count": 42,
   "metadata": {
    "ExecuteTime": {
     "end_time": "2018-05-15T01:04:20.471076Z",
     "start_time": "2018-05-15T01:04:20.466881Z"
    }
   },
   "outputs": [],
   "source": [
    "df = pd.DataFrame(coef_to_plot, columns=['feature','coefficient'])"
   ]
  },
  {
   "cell_type": "code",
   "execution_count": 43,
   "metadata": {
    "ExecuteTime": {
     "end_time": "2018-05-15T01:04:44.281728Z",
     "start_time": "2018-05-15T01:04:44.274519Z"
    }
   },
   "outputs": [
    {
     "data": {
      "text/html": [
       "<div>\n",
       "<style scoped>\n",
       "    .dataframe tbody tr th:only-of-type {\n",
       "        vertical-align: middle;\n",
       "    }\n",
       "\n",
       "    .dataframe tbody tr th {\n",
       "        vertical-align: top;\n",
       "    }\n",
       "\n",
       "    .dataframe thead th {\n",
       "        text-align: right;\n",
       "    }\n",
       "</style>\n",
       "<table border=\"1\" class=\"dataframe\">\n",
       "  <thead>\n",
       "    <tr style=\"text-align: right;\">\n",
       "      <th></th>\n",
       "      <th>feature</th>\n",
       "      <th>coefficient</th>\n",
       "    </tr>\n",
       "  </thead>\n",
       "  <tbody>\n",
       "    <tr>\n",
       "      <th>0</th>\n",
       "      <td>num_lab_procedures</td>\n",
       "      <td>0.060410</td>\n",
       "    </tr>\n",
       "    <tr>\n",
       "      <th>1</th>\n",
       "      <td>number_inpatient</td>\n",
       "      <td>0.058191</td>\n",
       "    </tr>\n",
       "    <tr>\n",
       "      <th>2</th>\n",
       "      <td>num_medications</td>\n",
       "      <td>0.055150</td>\n",
       "    </tr>\n",
       "    <tr>\n",
       "      <th>3</th>\n",
       "      <td>time_in_hospital</td>\n",
       "      <td>0.040483</td>\n",
       "    </tr>\n",
       "    <tr>\n",
       "      <th>4</th>\n",
       "      <td>number_diagnoses</td>\n",
       "      <td>0.029313</td>\n",
       "    </tr>\n",
       "  </tbody>\n",
       "</table>\n",
       "</div>"
      ],
      "text/plain": [
       "              feature  coefficient\n",
       "0  num_lab_procedures     0.060410\n",
       "1    number_inpatient     0.058191\n",
       "2     num_medications     0.055150\n",
       "3    time_in_hospital     0.040483\n",
       "4    number_diagnoses     0.029313"
      ]
     },
     "execution_count": 43,
     "metadata": {},
     "output_type": "execute_result"
    }
   ],
   "source": [
    "df.head()"
   ]
  },
  {
   "cell_type": "code",
   "execution_count": 44,
   "metadata": {
    "ExecuteTime": {
     "end_time": "2018-05-15T01:36:26.746978Z",
     "start_time": "2018-05-15T01:36:26.398580Z"
    }
   },
   "outputs": [
    {
     "data": {
      "image/png": "[encoded data removed]",
      "text/plain": [
       "<Figure size 432x288 with 1 Axes>"
      ]
     },
     "metadata": {
      "needs_background": "light"
     },
     "output_type": "display_data"
    }
   ],
   "source": [
    "plt.bar(df.feature, df.coefficient)\n",
    "plt.xticks(rotation='vertical');\n",
    "plt.yticks(rotation='vertical');"
   ]
  },
  {
   "cell_type": "code",
   "execution_count": 45,
   "metadata": {
    "ExecuteTime": {
     "end_time": "2018-05-15T01:33:25.452457Z",
     "start_time": "2018-05-15T01:33:25.107296Z"
    }
   },
   "outputs": [
    {
     "ename": "AttributeError",
     "evalue": "module 'matplotlib.pyplot' has no attribute 'invert_yaxis'",
     "output_type": "error",
     "traceback": [
      "\u001b[1;31m---------------------------------------------------------------------------\u001b[0m",
      "\u001b[1;31mAttributeError\u001b[0m                            Traceback (most recent call last)",
      "\u001b[1;32m<ipython-input-45-364a37e091ae>\u001b[0m in \u001b[0;36m<module>\u001b[1;34m\u001b[0m\n\u001b[0;32m      1\u001b[0m \u001b[0mplt\u001b[0m\u001b[1;33m.\u001b[0m\u001b[0mbarh\u001b[0m\u001b[1;33m(\u001b[0m\u001b[0mdf\u001b[0m\u001b[1;33m.\u001b[0m\u001b[0mfeature\u001b[0m\u001b[1;33m,\u001b[0m \u001b[0mdf\u001b[0m\u001b[1;33m.\u001b[0m\u001b[0mcoefficient\u001b[0m\u001b[1;33m)\u001b[0m\u001b[1;33m\u001b[0m\u001b[1;33m\u001b[0m\u001b[0m\n\u001b[1;32m----> 2\u001b[1;33m \u001b[0mplt\u001b[0m\u001b[1;33m.\u001b[0m\u001b[0minvert_yaxis\u001b[0m\u001b[1;33m(\u001b[0m\u001b[1;33m)\u001b[0m\u001b[1;33m\u001b[0m\u001b[1;33m\u001b[0m\u001b[0m\n\u001b[0m",
      "\u001b[1;31mAttributeError\u001b[0m: module 'matplotlib.pyplot' has no attribute 'invert_yaxis'"
     ]
    },
    {
     "data": {
      "image/png": "[encoded data removed]",
      "text/plain": [
       "<Figure size 432x288 with 1 Axes>"
      ]
     },
     "metadata": {
      "needs_background": "light"
     },
     "output_type": "display_data"
    }
   ],
   "source": [
    "plt.barh(df.feature, df.coefficient)\n",
    "plt.invert_yaxis()"
   ]
  },
  {
   "cell_type": "code",
   "execution_count": null,
   "metadata": {},
   "outputs": [],
   "source": []
  },
  {
   "cell_type": "markdown",
   "metadata": {},
   "source": [
    "#### Plotting the correlation between readmission and the top 25 predictive features:"
   ]
  },
  {
   "cell_type": "code",
   "execution_count": 46,
   "metadata": {
    "ExecuteTime": {
     "end_time": "2018-05-15T01:10:51.231205Z",
     "start_time": "2018-05-15T01:10:51.226947Z"
    }
   },
   "outputs": [
    {
     "data": {
      "text/plain": [
       "['num_lab_procedures',\n",
       " 'number_inpatient',\n",
       " 'num_medications',\n",
       " 'time_in_hospital',\n",
       " 'number_diagnoses',\n",
       " 'num_procedures',\n",
       " 'number_emergency',\n",
       " 'discharge_disposition_id[T.Discharged to home]',\n",
       " 'number_outpatient',\n",
       " 'gender[T.Male]',\n",
       " 'discharge_disposition_id[T.Discharged/transferred to another rehab fac including rehab units of a hospital .]',\n",
       " 'payer_code[T.MC]',\n",
       " 'diag_2[T.Diseases Of The Circulatory System]',\n",
       " 'diag_1[T.Diseases Of The Circulatory System]',\n",
       " 'age[T.[70-80)]',\n",
       " 'diag_3[T.Diseases Of The Circulatory System]',\n",
       " 'age[T.[60-70)]',\n",
       " 'medical_specialty[T.InternalMedicine]',\n",
       " 'race[T.Caucasian]',\n",
       " 'admission_type_id[T.Emergency]',\n",
       " 'diag_3[T.Supplementary Classification Of External Causes Of Injury And Poisoning]',\n",
       " 'change[T.No]',\n",
       " 'age[T.[50-60)]',\n",
       " 'insulin[T.Steady]',\n",
       " 'insulin[T.No]']"
      ]
     },
     "execution_count": 46,
     "metadata": {},
     "output_type": "execute_result"
    }
   ],
   "source": [
    "list(df.feature.unique())"
   ]
  },
  {
   "cell_type": "code",
   "execution_count": 47,
   "metadata": {
    "ExecuteTime": {
     "end_time": "2018-05-15T01:14:18.252744Z",
     "start_time": "2018-05-15T01:14:17.920919Z"
    }
   },
   "outputs": [],
   "source": [
    "sub_x = x.copy()[list(df.feature.unique())]"
   ]
  },
  {
   "cell_type": "code",
   "execution_count": 48,
   "metadata": {
    "ExecuteTime": {
     "end_time": "2018-05-15T01:14:18.559347Z",
     "start_time": "2018-05-15T01:14:18.502778Z"
    }
   },
   "outputs": [],
   "source": [
    "sub_x['y'] = y"
   ]
  },
  {
   "cell_type": "code",
   "execution_count": 49,
   "metadata": {
    "ExecuteTime": {
     "end_time": "2018-05-15T01:14:19.208216Z",
     "start_time": "2018-05-15T01:14:19.185374Z"
    }
   },
   "outputs": [
    {
     "data": {
      "text/html": [
       "<div>\n",
       "<style scoped>\n",
       "    .dataframe tbody tr th:only-of-type {\n",
       "        vertical-align: middle;\n",
       "    }\n",
       "\n",
       "    .dataframe tbody tr th {\n",
       "        vertical-align: top;\n",
       "    }\n",
       "\n",
       "    .dataframe thead th {\n",
       "        text-align: right;\n",
       "    }\n",
       "</style>\n",
       "<table border=\"1\" class=\"dataframe\">\n",
       "  <thead>\n",
       "    <tr style=\"text-align: right;\">\n",
       "      <th></th>\n",
       "      <th>num_lab_procedures</th>\n",
       "      <th>number_inpatient</th>\n",
       "      <th>num_medications</th>\n",
       "      <th>time_in_hospital</th>\n",
       "      <th>number_diagnoses</th>\n",
       "      <th>num_procedures</th>\n",
       "      <th>number_emergency</th>\n",
       "      <th>discharge_disposition_id[T.Discharged to home]</th>\n",
       "      <th>number_outpatient</th>\n",
       "      <th>gender[T.Male]</th>\n",
       "      <th>...</th>\n",
       "      <th>age[T.[60-70)]</th>\n",
       "      <th>medical_specialty[T.InternalMedicine]</th>\n",
       "      <th>race[T.Caucasian]</th>\n",
       "      <th>admission_type_id[T.Emergency]</th>\n",
       "      <th>diag_3[T.Supplementary Classification Of External Causes Of Injury And Poisoning]</th>\n",
       "      <th>change[T.No]</th>\n",
       "      <th>age[T.[50-60)]</th>\n",
       "      <th>insulin[T.Steady]</th>\n",
       "      <th>insulin[T.No]</th>\n",
       "      <th>y</th>\n",
       "    </tr>\n",
       "  </thead>\n",
       "  <tbody>\n",
       "    <tr>\n",
       "      <th>0</th>\n",
       "      <td>41.0</td>\n",
       "      <td>0.0</td>\n",
       "      <td>1.0</td>\n",
       "      <td>1.0</td>\n",
       "      <td>1.0</td>\n",
       "      <td>0.0</td>\n",
       "      <td>0.0</td>\n",
       "      <td>0.0</td>\n",
       "      <td>0.0</td>\n",
       "      <td>0.0</td>\n",
       "      <td>...</td>\n",
       "      <td>0.0</td>\n",
       "      <td>0.0</td>\n",
       "      <td>1.0</td>\n",
       "      <td>0.0</td>\n",
       "      <td>0.0</td>\n",
       "      <td>1.0</td>\n",
       "      <td>0.0</td>\n",
       "      <td>0.0</td>\n",
       "      <td>1.0</td>\n",
       "      <td>NO</td>\n",
       "    </tr>\n",
       "    <tr>\n",
       "      <th>1</th>\n",
       "      <td>59.0</td>\n",
       "      <td>0.0</td>\n",
       "      <td>18.0</td>\n",
       "      <td>3.0</td>\n",
       "      <td>9.0</td>\n",
       "      <td>0.0</td>\n",
       "      <td>0.0</td>\n",
       "      <td>1.0</td>\n",
       "      <td>0.0</td>\n",
       "      <td>0.0</td>\n",
       "      <td>...</td>\n",
       "      <td>0.0</td>\n",
       "      <td>0.0</td>\n",
       "      <td>1.0</td>\n",
       "      <td>1.0</td>\n",
       "      <td>1.0</td>\n",
       "      <td>0.0</td>\n",
       "      <td>0.0</td>\n",
       "      <td>0.0</td>\n",
       "      <td>0.0</td>\n",
       "      <td>NO</td>\n",
       "    </tr>\n",
       "    <tr>\n",
       "      <th>2</th>\n",
       "      <td>11.0</td>\n",
       "      <td>1.0</td>\n",
       "      <td>13.0</td>\n",
       "      <td>2.0</td>\n",
       "      <td>6.0</td>\n",
       "      <td>5.0</td>\n",
       "      <td>0.0</td>\n",
       "      <td>1.0</td>\n",
       "      <td>2.0</td>\n",
       "      <td>0.0</td>\n",
       "      <td>...</td>\n",
       "      <td>0.0</td>\n",
       "      <td>0.0</td>\n",
       "      <td>0.0</td>\n",
       "      <td>1.0</td>\n",
       "      <td>0.0</td>\n",
       "      <td>1.0</td>\n",
       "      <td>0.0</td>\n",
       "      <td>0.0</td>\n",
       "      <td>1.0</td>\n",
       "      <td>NO</td>\n",
       "    </tr>\n",
       "    <tr>\n",
       "      <th>3</th>\n",
       "      <td>44.0</td>\n",
       "      <td>0.0</td>\n",
       "      <td>16.0</td>\n",
       "      <td>2.0</td>\n",
       "      <td>7.0</td>\n",
       "      <td>1.0</td>\n",
       "      <td>0.0</td>\n",
       "      <td>1.0</td>\n",
       "      <td>0.0</td>\n",
       "      <td>1.0</td>\n",
       "      <td>...</td>\n",
       "      <td>0.0</td>\n",
       "      <td>0.0</td>\n",
       "      <td>1.0</td>\n",
       "      <td>1.0</td>\n",
       "      <td>0.0</td>\n",
       "      <td>0.0</td>\n",
       "      <td>0.0</td>\n",
       "      <td>0.0</td>\n",
       "      <td>0.0</td>\n",
       "      <td>NO</td>\n",
       "    </tr>\n",
       "    <tr>\n",
       "      <th>4</th>\n",
       "      <td>51.0</td>\n",
       "      <td>0.0</td>\n",
       "      <td>8.0</td>\n",
       "      <td>1.0</td>\n",
       "      <td>5.0</td>\n",
       "      <td>0.0</td>\n",
       "      <td>0.0</td>\n",
       "      <td>1.0</td>\n",
       "      <td>0.0</td>\n",
       "      <td>1.0</td>\n",
       "      <td>...</td>\n",
       "      <td>0.0</td>\n",
       "      <td>0.0</td>\n",
       "      <td>1.0</td>\n",
       "      <td>1.0</td>\n",
       "      <td>1.0</td>\n",
       "      <td>0.0</td>\n",
       "      <td>0.0</td>\n",
       "      <td>1.0</td>\n",
       "      <td>0.0</td>\n",
       "      <td>NO</td>\n",
       "    </tr>\n",
       "  </tbody>\n",
       "</table>\n",
       "<p>5 rows × 26 columns</p>\n",
       "</div>"
      ],
      "text/plain": [
       "   num_lab_procedures  number_inpatient  num_medications  time_in_hospital  \\\n",
       "0                41.0               0.0              1.0               1.0   \n",
       "1                59.0               0.0             18.0               3.0   \n",
       "2                11.0               1.0             13.0               2.0   \n",
       "3                44.0               0.0             16.0               2.0   \n",
       "4                51.0               0.0              8.0               1.0   \n",
       "\n",
       "   number_diagnoses  num_procedures  number_emergency  \\\n",
       "0               1.0             0.0               0.0   \n",
       "1               9.0             0.0               0.0   \n",
       "2               6.0             5.0               0.0   \n",
       "3               7.0             1.0               0.0   \n",
       "4               5.0             0.0               0.0   \n",
       "\n",
       "   discharge_disposition_id[T.Discharged to home]  number_outpatient  \\\n",
       "0                                             0.0                0.0   \n",
       "1                                             1.0                0.0   \n",
       "2                                             1.0                2.0   \n",
       "3                                             1.0                0.0   \n",
       "4                                             1.0                0.0   \n",
       "\n",
       "   gender[T.Male]  ...  age[T.[60-70)]  medical_specialty[T.InternalMedicine]  \\\n",
       "0             0.0  ...             0.0                                    0.0   \n",
       "1             0.0  ...             0.0                                    0.0   \n",
       "2             0.0  ...             0.0                                    0.0   \n",
       "3             1.0  ...             0.0                                    0.0   \n",
       "4             1.0  ...             0.0                                    0.0   \n",
       "\n",
       "   race[T.Caucasian]  admission_type_id[T.Emergency]  \\\n",
       "0                1.0                             0.0   \n",
       "1                1.0                             1.0   \n",
       "2                0.0                             1.0   \n",
       "3                1.0                             1.0   \n",
       "4                1.0                             1.0   \n",
       "\n",
       "   diag_3[T.Supplementary Classification Of External Causes Of Injury And Poisoning]  \\\n",
       "0                                                0.0                                   \n",
       "1                                                1.0                                   \n",
       "2                                                0.0                                   \n",
       "3                                                0.0                                   \n",
       "4                                                1.0                                   \n",
       "\n",
       "   change[T.No]  age[T.[50-60)]  insulin[T.Steady]  insulin[T.No]   y  \n",
       "0           1.0             0.0                0.0            1.0  NO  \n",
       "1           0.0             0.0                0.0            0.0  NO  \n",
       "2           1.0             0.0                0.0            1.0  NO  \n",
       "3           0.0             0.0                0.0            0.0  NO  \n",
       "4           0.0             0.0                1.0            0.0  NO  \n",
       "\n",
       "[5 rows x 26 columns]"
      ]
     },
     "execution_count": 49,
     "metadata": {},
     "output_type": "execute_result"
    }
   ],
   "source": [
    "sub_x.head()"
   ]
  },
  {
   "cell_type": "code",
   "execution_count": 50,
   "metadata": {
    "ExecuteTime": {
     "end_time": "2018-05-15T01:14:23.526109Z",
     "start_time": "2018-05-15T01:14:23.495447Z"
    }
   },
   "outputs": [],
   "source": [
    "sub_x.y = sub_x.y.replace('NO',0)\n",
    "sub_x.y = sub_x.y.replace('<30',1)"
   ]
  },
  {
   "cell_type": "code",
   "execution_count": 51,
   "metadata": {
    "ExecuteTime": {
     "end_time": "2018-05-15T01:17:06.052769Z",
     "start_time": "2018-05-15T01:17:05.255861Z"
    }
   },
   "outputs": [
    {
     "data": {
      "text/plain": [
       "<matplotlib.axes._subplots.AxesSubplot at 0x22790fe9548>"
      ]
     },
     "execution_count": 51,
     "metadata": {},
     "output_type": "execute_result"
    },
    {
     "data": {
      "image/png": "[encoded data removed]",
      "text/plain": [
       "<Figure size 792x648 with 2 Axes>"
      ]
     },
     "metadata": {
      "needs_background": "light"
     },
     "output_type": "display_data"
    }
   ],
   "source": [
    "# sns.pairplot(sub_x)\n",
    "\n",
    "# Compute the correlation matrix\n",
    "corr = sub_x.corr()\n",
    "\n",
    "# Generate a mask for the upper triangle\n",
    "mask = np.zeros_like(corr, dtype=np.bool)\n",
    "mask[np.triu_indices_from(mask)] = True\n",
    "\n",
    "# Set up the matplotlib figure\n",
    "f, ax = plt.subplots(figsize=(11, 9))\n",
    "\n",
    "# Generate a custom diverging colormap\n",
    "cmap = sns.diverging_palette(220, 10, as_cmap=True)\n",
    "\n",
    "# Draw the heatmap with the mask and correct aspect ratio\n",
    "sns.heatmap(corr, mask=mask, cmap=cmap, vmax=.3, center=0,\n",
    "            square=True, linewidths=.5, cbar_kws={\"shrink\": .5})"
   ]
  },
  {
   "cell_type": "code",
   "execution_count": 52,
   "metadata": {
    "ExecuteTime": {
     "end_time": "2018-05-15T15:53:06.522292Z",
     "start_time": "2018-05-15T15:53:06.487931Z"
    }
   },
   "outputs": [],
   "source": [
    "sub_x = sub_x.drop(['y'], axis=1)"
   ]
  },
  {
   "cell_type": "code",
   "execution_count": 53,
   "metadata": {
    "ExecuteTime": {
     "end_time": "2018-05-15T15:53:17.435002Z",
     "start_time": "2018-05-15T15:53:17.430205Z"
    }
   },
   "outputs": [
    {
     "data": {
      "text/plain": [
       "(100114, 25)"
      ]
     },
     "execution_count": 53,
     "metadata": {},
     "output_type": "execute_result"
    }
   ],
   "source": [
    "sub_x.shape"
   ]
  },
  {
   "cell_type": "markdown",
   "metadata": {},
   "source": [
    "#### My top 25 features keep the recall at .60, .61 - slightly higher with re-tweaking hyperparameters"
   ]
  },
  {
   "cell_type": "code",
   "execution_count": 54,
   "metadata": {
    "ExecuteTime": {
     "end_time": "2018-05-15T15:54:23.736115Z",
     "start_time": "2018-05-15T15:54:23.628093Z"
    }
   },
   "outputs": [],
   "source": [
    "x_train, x_test, y_train, y_test = train_test_split(sub_x, y, test_size=0.25, random_state=42, stratify=y)"
   ]
  },
  {
   "cell_type": "code",
   "execution_count": 55,
   "metadata": {
    "ExecuteTime": {
     "end_time": "2018-05-15T15:56:08.086691Z",
     "start_time": "2018-05-15T15:56:07.897690Z"
    }
   },
   "outputs": [],
   "source": [
    "rus = RandomUnderSampler(random_state=0)\n",
    "x_train_undersampled, y_train_undersampled = rus.fit_sample(x_train, y_train)"
   ]
  },
  {
   "cell_type": "code",
   "execution_count": 56,
   "metadata": {
    "ExecuteTime": {
     "end_time": "2018-05-16T00:01:22.367051Z",
     "start_time": "2018-05-16T00:01:22.360070Z"
    }
   },
   "outputs": [
    {
     "data": {
      "text/plain": [
       "(75085, 25)"
      ]
     },
     "execution_count": 56,
     "metadata": {},
     "output_type": "execute_result"
    }
   ],
   "source": [
    "x_train.shape"
   ]
  },
  {
   "cell_type": "code",
   "execution_count": 57,
   "metadata": {
    "ExecuteTime": {
     "end_time": "2018-05-15T17:11:17.491217Z",
     "start_time": "2018-05-15T17:11:12.246368Z"
    }
   },
   "outputs": [
    {
     "name": "stdout",
     "output_type": "stream",
     "text": [
      "Accuracy: 0.618\n",
      "              precision    recall  f1-score   support\n",
      "\n",
      "         <30       0.17      0.62      0.27      2839\n",
      "          NO       0.93      0.62      0.74     22190\n",
      "\n",
      "    accuracy                           0.62     25029\n",
      "   macro avg       0.55      0.62      0.50     25029\n",
      "weighted avg       0.84      0.62      0.69     25029\n",
      "\n",
      "[[ 1754  1085]\n",
      " [ 8475 13715]]\n"
     ]
    }
   ],
   "source": [
    "randomforest = RandomForestClassifier(n_estimators=300, min_samples_split=70)\n",
    "randomforest.fit(x_train_undersampled, y_train_undersampled)\n",
    "randomforest.score(x_test, y_test)\n",
    "y_pred = randomforest.predict(x_test)\n",
    "print(\"Accuracy: %.3f\"% metrics.accuracy_score(y_test, y_pred))\n",
    "print(metrics.classification_report(y_test, y_pred))\n",
    "print(metrics.confusion_matrix(y_test, y_pred))"
   ]
  },
  {
   "cell_type": "code",
   "execution_count": 58,
   "metadata": {
    "ExecuteTime": {
     "end_time": "2018-05-16T00:02:23.846496Z",
     "start_time": "2018-05-16T00:02:23.743682Z"
    }
   },
   "outputs": [],
   "source": [
    "# pickle model for predictor app\n",
    "with open('randomforest.pkl', 'wb') as picklefile:\n",
    "    pickle.dump(randomforest, picklefile)"
   ]
  },
  {
   "cell_type": "code",
   "execution_count": 59,
   "metadata": {
    "ExecuteTime": {
     "end_time": "2018-05-15T17:48:08.418430Z",
     "start_time": "2018-05-15T17:48:08.168978Z"
    }
   },
   "outputs": [
    {
     "data": {
      "text/plain": [
       "Text(68.09375, 0.5, 'True')"
      ]
     },
     "execution_count": 59,
     "metadata": {},
     "output_type": "execute_result"
    },
    {
     "data": {
      "image/png": "[encoded data removed]",
      "text/plain": [
       "<Figure size 720x504 with 2 Axes>"
      ]
     },
     "metadata": {
      "needs_background": "light"
     },
     "output_type": "display_data"
    }
   ],
   "source": [
    "array = metrics.confusion_matrix(y_test, y_pred)\n",
    "df_cm = pd.DataFrame(array, index = ['early_readmitted', 'not'],\n",
    "                  columns = ['early_readmitted', 'not'])\n",
    "plt.figure(figsize = (10,7))\n",
    "sns.heatmap(df_cm, annot=True)\n",
    "plt.xlabel('Predicted')\n",
    "plt.ylabel('True')"
   ]
  },
  {
   "cell_type": "code",
   "execution_count": null,
   "metadata": {
    "ExecuteTime": {
     "end_time": "2018-05-15T18:08:23.454662Z",
     "start_time": "2018-05-15T18:08:23.445066Z"
    }
   },
   "outputs": [],
   "source": []
  },
  {
   "cell_type": "code",
   "execution_count": 60,
   "metadata": {},
   "outputs": [],
   "source": [
    "from sklearn.metrics import precision_recall_curve"
   ]
  },
  {
   "cell_type": "code",
   "execution_count": 61,
   "metadata": {},
   "outputs": [],
   "source": [
    "y_test_num = y_test.copy()\n",
    "y_test_num = y_test_num.replace('NO', 0)\n",
    "y_test_num = y_test_num.replace('<30', 1)"
   ]
  },
  {
   "cell_type": "code",
   "execution_count": 62,
   "metadata": {
    "ExecuteTime": {
     "end_time": "2018-05-15T18:09:07.516372Z",
     "start_time": "2018-05-15T18:09:06.582724Z"
    }
   },
   "outputs": [
    {
     "data": {
      "text/plain": [
       "Text(0.5, 1.0, 'Precision Recall Curve')"
      ]
     },
     "execution_count": 62,
     "metadata": {},
     "output_type": "execute_result"
    },
    {
     "data": {
      "image/png": "[encoded data removed]",
      "text/plain": [
       "<Figure size 432x288 with 1 Axes>"
      ]
     },
     "metadata": {
      "needs_background": "light"
     },
     "output_type": "display_data"
    }
   ],
   "source": [
    "model = randomforest\n",
    "\n",
    "y_score = model.predict_proba(x_test)[:, 1]\n",
    "p, r, t = precision_recall_curve(y_test_num, y_score)\n",
    "\n",
    "# adding last threshold of '1' to threshold list\n",
    "t = np.vstack([t.reshape([-1, 1]), 1])\n",
    "\n",
    "plt.plot(t, p)\n",
    "plt.plot(t, r)\n",
    "plt.title('Precision Recall Curve')\n",
    "# yellow = recall\n",
    "# blue = precision"
   ]
  }
 ],
 "metadata": {
  "kernelspec": {
   "display_name": "Python 3",
   "language": "python",
   "name": "python3"
  },
  "language_info": {
   "codemirror_mode": {
    "name": "ipython",
    "version": 3
   },
   "file_extension": ".py",
   "mimetype": "text/x-python",
   "name": "python",
   "nbconvert_exporter": "python",
   "pygments_lexer": "ipython3",
   "version": "3.7.6"
  }
 },
 "nbformat": 4,
 "nbformat_minor": 1
}
